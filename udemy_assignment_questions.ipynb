{
  "cells": [
    {
      "cell_type": "code",
      "execution_count": null,
      "metadata": {
        "colab": {
          "base_uri": "https://localhost:8080/",
          "height": 53
        },
        "id": "PiFCXPdrO9Df",
        "outputId": "c68294d0-515e-4329-a6b9-39189adf63fe"
      },
      "outputs": [
        {
          "name": "stdout",
          "output_type": "stream",
          "text": [
            "Enter a 3 digit no: 171\n"
          ]
        },
        {
          "data": {
            "application/vnd.google.colaboratory.intrinsic+json": {
              "type": "string"
            },
            "text/plain": [
              "'171 is not an Armstrong no'"
            ]
          },
          "execution_count": 4,
          "metadata": {},
          "output_type": "execute_result"
        }
      ],
      "source": [
        "def checkARMno(n):\n",
        "        if (int(n[0])**3 +int(n[1])**3+int(n[2])**3==int(n)):\n",
        "            result=(f\"{n} is an Armstrong no\")\n",
        "        else:\n",
        "            result= (f\"{n} is not an Armstrong no\")\n",
        "\n",
        "        return result\n",
        "\n",
        "n=input(\"Enter a 3 digit no: \")\n",
        "\n",
        "checkARMno(n)"
      ]
    },
    {
      "cell_type": "code",
      "execution_count": null,
      "metadata": {
        "colab": {
          "base_uri": "https://localhost:8080/"
        },
        "id": "IcCt4PT70Z0O",
        "outputId": "8bb55a66-2300-4eec-ce3c-d6a2dd54d440"
      },
      "outputs": [
        {
          "name": "stdout",
          "output_type": "stream",
          "text": [
            "Enter a no: 2\n",
            "(2, 2, 5, 12)\n"
          ]
        }
      ],
      "source": [
        "test_tuple=(3,7,1,18,9)\n",
        "k=int(input(\"Enter a no: \"))\n",
        "new_T=list(test_tuple)\n",
        "result=[]\n",
        "if k>len(new_T)//2:\n",
        "  print(\"Error:Value of k is too large for tuple\")\n",
        "else:\n",
        "  for i in range(k):\n",
        "    result.append(min(new_T))\n",
        "    result.append(max(new_T))\n",
        "    new_T.remove(min(new_T))\n",
        "    new_T.remove(max(new_T))\n",
        "  print(tuple(sorted(result)))\n"
      ]
    },
    {
      "cell_type": "code",
      "execution_count": null,
      "metadata": {
        "colab": {
          "base_uri": "https://localhost:8080/"
        },
        "id": "yBjvtESXAcI7",
        "outputId": "1184b6d8-4d5f-4194-c1e9-901fb57574a1"
      },
      "outputs": [
        {
          "name": "stdout",
          "output_type": "stream",
          "text": [
            "Enter no of elements: 3\n",
            "Enter an element: 1\n",
            "Enter an element: 2\n",
            "Enter an element: 3\n",
            "[(1, 1), (2, 8), (3, 27)]\n"
          ]
        }
      ],
      "source": [
        "n=int(input(\"Enter no of elements: \"))\n",
        "\n",
        "list1=[]\n",
        "for i in range(n):\n",
        "  list1.append(int(input(\"Enter an element: \")))\n",
        "listc=[i**3 for i in list1]\n",
        "result=[]\n",
        "rslt=zip(list1,listc)\n",
        "result=list(rslt)\n",
        "\n",
        "print(result)\n",
        "\n",
        "\n"
      ]
    },
    {
      "cell_type": "code",
      "execution_count": null,
      "metadata": {
        "colab": {
          "base_uri": "https://localhost:8080/"
        },
        "id": "kBQ0D0TxDESg",
        "outputId": "6cb8f290-172b-4c70-bbde-229bd3157649"
      },
      "outputs": [
        {
          "name": "stdout",
          "output_type": "stream",
          "text": [
            "[(1, 1), (2, 8), (5, 125), (6, 216)]\n"
          ]
        }
      ],
      "source": [
        "Input: list = [1, 2, 3]\n",
        "\n",
        "Output: [(1, 1), (2, 8), (3, 27)]\n",
        "\n",
        "\n",
        "\n",
        "Input: list = [9, 5, 6]\n",
        "\n",
        "Output: [(9, 729), (5, 125), (6, 216)]\n",
        "\n",
        "# Python program to create a list of tuples\n",
        "\n",
        "# from given list having number and\n",
        "\n",
        "# its cube in each tuple\n",
        "\n",
        "\n",
        "\n",
        "# creating a list\n",
        "\n",
        "list1 = [1, 2, 5, 6]\n",
        "\n",
        "\n",
        "\n",
        "# using list comprehension to iterate each\n",
        "\n",
        "# values in list and create a tuple as specified\n",
        "\n",
        "res = [(val, pow(val, 3)) for val in list1]\n",
        "\n",
        "\n",
        "\n",
        "# print the result\n",
        "\n",
        "print(res)"
      ]
    },
    {
      "cell_type": "code",
      "execution_count": null,
      "metadata": {
        "colab": {
          "base_uri": "https://localhost:8080/"
        },
        "id": "uQLWPUm3DT5y",
        "outputId": "96552e82-7470-4213-b316-c8e9db11df52"
      },
      "outputs": [
        {
          "name": "stdout",
          "output_type": "stream",
          "text": [
            "Enter no of elements: 3\n",
            "Enter key1: a\n",
            "Enter value1: 100\n",
            "Enter key2: b\n",
            "Enter value2: 40\n",
            "Enter key3: c\n",
            "Enter value3: 56\n",
            "196\n"
          ]
        }
      ],
      "source": [
        "n=int(input(\"Enter no of elements: \"))\n",
        "dis={}\n",
        "for i in range(n):\n",
        "  key=input(\"Enter key{}: \".format(i+1))\n",
        "  value=int(input(\"Enter value{}: \".format(i+1)))\n",
        "  dis[key]=value\n",
        "values=[]\n",
        "for key,value in dis.items():\n",
        "  values.append(value)\n",
        "print(sum(values))\n",
        "\n"
      ]
    },
    {
      "cell_type": "code",
      "execution_count": null,
      "metadata": {
        "colab": {
          "base_uri": "https://localhost:8080/"
        },
        "id": "o-9vc31pF0QZ",
        "outputId": "9bd95445-90e5-4a96-bef7-eb7223ecab4f"
      },
      "outputs": [
        {
          "name": "stdout",
          "output_type": "stream",
          "text": [
            "Sum : 600\n"
          ]
        }
      ],
      "source": [
        "# Python3 Program to find sum of\n",
        "\n",
        "# all items in a Dictionary\n",
        "\n",
        "\n",
        "\n",
        "# Function to print sum\n",
        "\n",
        "def returnSum(dict):\n",
        "  sum = 0\n",
        "  for i in dict.values():\n",
        "    sum = sum + i\n",
        "  return sum\n",
        "\n",
        "\n",
        "\n",
        "dict = {'a': 100, 'b': 200, 'c': 300}\n",
        "\n",
        "print(\"Sum :\", returnSum(dict))"
      ]
    },
    {
      "cell_type": "code",
      "execution_count": null,
      "metadata": {
        "colab": {
          "base_uri": "https://localhost:8080/"
        },
        "id": "mvOHTOhcGFgd",
        "outputId": "32fca25f-9f22-4b80-cca5-891a0452faa8"
      },
      "outputs": [
        {
          "name": "stdout",
          "output_type": "stream",
          "text": [
            "(12, 10, 13, 15, 8)\n",
            "(12, 10, 13, 15)\n",
            "(12, 10, 13)\n",
            "(12, 10)\n",
            "(12,)\n",
            "()\n"
          ]
        }
      ],
      "source": [
        "tp1=tuple([12, 10, 13, 15, 8, 9])\n",
        "\n",
        "list1=list(tp1)\n",
        "for i in range(len(tp1)):\n",
        "  list1.pop()\n",
        "  print(tuple(list1))\n",
        "\n",
        "\n"
      ]
    },
    {
      "cell_type": "code",
      "execution_count": null,
      "metadata": {
        "colab": {
          "base_uri": "https://localhost:8080/"
        },
        "id": "s1vypoQsJitP",
        "outputId": "92cfad4a-9572-4ac7-a424-8b26b5271a1a"
      },
      "outputs": [
        {
          "name": "stdout",
          "output_type": "stream",
          "text": [
            "{9, 10, 12, 13, 15}\n",
            "{10, 12, 13, 15}\n",
            "{12, 13, 15}\n",
            "{13, 15}\n",
            "{15}\n",
            "set()\n"
          ]
        }
      ],
      "source": [
        "#Input : set([12, 10, 13, 15, 8, 9])\n",
        "\n",
        "#Output :\n",
        "\n",
        "#{9, 10, 12, 13, 15}\n",
        "\n",
        "#{10, 12, 13, 15}\n",
        "\n",
        "#{12, 13, 15}\n",
        "\n",
        "#{13, 15}\n",
        "\n",
        "#{15}\n",
        "\n",
        "#set()\n",
        "\n",
        "def Remove(initial_set):\n",
        "  while initial_set:\n",
        "    initial_set.pop()\n",
        "    print(initial_set)\n",
        "\n",
        "\n",
        "\n",
        "initial_set = set([12, 10, 13, 15, 8, 9])\n",
        "\n",
        "Remove(initial_set)"
      ]
    },
    {
      "cell_type": "code",
      "execution_count": null,
      "metadata": {
        "colab": {
          "base_uri": "https://localhost:8080/"
        },
        "id": "2lkFAqQPpQjQ",
        "outputId": "83789812-76ef-479d-9258-32318c86d407"
      },
      "outputs": [
        {
          "name": "stdout",
          "output_type": "stream",
          "text": [
            "12272577818052\n"
          ]
        }
      ],
      "source": [
        "import math\n",
        "def is_prime(n):\n",
        "    if n<2:\n",
        "         return False\n",
        "    for i in range (2,int(math.sqrt(n))+1):\n",
        "        if n%i==0:\n",
        "            return False\n",
        "    return True\n",
        "\n",
        "prime_nos=[num for num in range(2,20000001) if is_prime(num)]\n",
        "print(sum(prime_nos))"
      ]
    },
    {
      "cell_type": "code",
      "execution_count": null,
      "metadata": {
        "colab": {
          "base_uri": "https://localhost:8080/"
        },
        "id": "zZ_leAtCJ5W1",
        "outputId": "75614143-8291-4afa-d4c5-42706df1eb42"
      },
      "outputs": [
        {
          "name": "stdout",
          "output_type": "stream",
          "text": [
            "[12, 35, 9, 56, 24]\n",
            "Result is :  [24, 35, 9, 56, 12]\n"
          ]
        }
      ],
      "source": [
        "list1= [12, 35, 9, 56, 24]\n",
        "print(list1)\n",
        "def swapping(a):\n",
        "  a[0],a[-1]=a[-1],a[0]\n",
        "  return a\n",
        "print(\"Result is : \",swapping(list1))"
      ]
    },
    {
      "cell_type": "code",
      "execution_count": null,
      "metadata": {
        "colab": {
          "base_uri": "https://localhost:8080/"
        },
        "id": "iUvVrK_PLQVO",
        "outputId": "e129f19e-52ed-4f71-8c90-60561ff5678c"
      },
      "outputs": [
        {
          "name": "stdout",
          "output_type": "stream",
          "text": [
            "Even:  3 .  Odd:  2\n"
          ]
        }
      ],
      "source": [
        "listl=[12, 14, 95, 3]\n",
        "def counteo(l):\n",
        "  e=[]\n",
        "  o=[]\n",
        "  for i in l:\n",
        "    if i%2==0:\n",
        "      e.append(i)\n",
        "    else:\n",
        "      o.append(i)\n",
        "  result=print(\"Even= \",len(e),\". \",\"Odd= \",len(o))\n",
        "  return result\n",
        "\n",
        "counteo(list1)"
      ]
    },
    {
      "cell_type": "code",
      "execution_count": null,
      "metadata": {
        "colab": {
          "base_uri": "https://localhost:8080/"
        },
        "id": "J1Zfzg45MbAO",
        "outputId": "48730c51-4653-4abd-bf68-35e23cbcaeb4"
      },
      "outputs": [
        {
          "name": "stdout",
          "output_type": "stream",
          "text": [
            "6\n"
          ]
        }
      ],
      "source": [
        "from functools import reduce\n",
        "ll= [1, 2, 3]\n",
        "\n",
        "\n",
        "result=reduce(lambda x,y:x*y,ll)\n",
        "print(result)"
      ]
    },
    {
      "cell_type": "code",
      "execution_count": null,
      "metadata": {
        "colab": {
          "base_uri": "https://localhost:8080/"
        },
        "id": "RUhN9OW9RZxp",
        "outputId": "1afe0342-41fc-414b-f7cd-86f73ba0097e"
      },
      "outputs": [
        {
          "name": "stdout",
          "output_type": "stream",
          "text": [
            "pos=  2 .  neg=  3\n",
            "pos=  3 .  neg=  1\n"
          ]
        }
      ],
      "source": [
        "list1 = [2, -7, 5, -64, -14]\n",
        "list2 = [-12, 14, 95, 3]\n",
        "def countpn(l):\n",
        "  p=[]\n",
        "  n=[]\n",
        "  for i in l:\n",
        "    if i>0:\n",
        "      p.append(i)\n",
        "    else:\n",
        "      n.append(i)\n",
        "  result=print(\"pos= \",len(p),\". \",\"neg= \",len(n))\n",
        "  return result\n",
        "\n",
        "countpn(list1)\n",
        "countpn(list2)\n"
      ]
    },
    {
      "cell_type": "code",
      "execution_count": null,
      "metadata": {
        "colab": {
          "base_uri": "https://localhost:8080/"
        },
        "id": "nTdRJN3qJ_o3",
        "outputId": "d5d0c6ac-ab16-4ad5-b205-25a81fe221ea"
      },
      "outputs": [
        {
          "name": "stdout",
          "output_type": "stream",
          "text": [
            "surendra is name my\n"
          ]
        }
      ],
      "source": [
        "str1 = \"my name is surendra\"\n",
        "list1=str1.split(\" \")\n",
        "print(\" \".join(list1[::-1]))"
      ]
    },
    {
      "cell_type": "code",
      "execution_count": null,
      "metadata": {
        "colab": {
          "base_uri": "https://localhost:8080/"
        },
        "id": "xqwxS9-xMcrP",
        "outputId": "31613b0f-0ffc-49d0-aa22-3b6741c1810e"
      },
      "outputs": [
        {
          "name": "stdout",
          "output_type": "stream",
          "text": [
            "The words with even length are: \n",
            "This is python language "
          ]
        }
      ],
      "source": [
        "s = \"This is a python language\"\n",
        "l=s.split(\" \")\n",
        "print(\"The words with even length are: \")\n",
        "for i in l:\n",
        "  if len(i)%2==0:\n",
        "    print(i,end=\" \")"
      ]
    },
    {
      "cell_type": "code",
      "execution_count": null,
      "metadata": {
        "colab": {
          "base_uri": "https://localhost:8080/"
        },
        "id": "s3cR1Ln9ON0_",
        "outputId": "f6b04014-9cbc-4186-aeb1-43ff0a1bc251"
      },
      "outputs": [
        {
          "name": "stdout",
          "output_type": "stream",
          "text": [
            "Enter a string: gdg hhg t\n",
            "Enter ith character: -1\n",
            "gdg hhg \n"
          ]
        }
      ],
      "source": [
        "s=input(\"Enter a string: \")\n",
        "def el(s,n):\n",
        "  l=list(s)\n",
        "  l.pop(n)\n",
        "  print(\"\".join(l))\n",
        "\n",
        "el(s,int(input(\"Enter ith character: \")))"
      ]
    },
    {
      "cell_type": "markdown",
      "metadata": {
        "id": "9IFplHRCX2xw"
      },
      "source": [
        "s.split(\" \") splits the string into words (not characters).\n",
        "If you want to remove a character at a specific index, you should use list(s) instead.\n"
      ]
    },
    {
      "cell_type": "code",
      "execution_count": null,
      "metadata": {
        "colab": {
          "background_save": true,
          "base_uri": "https://localhost:8080/"
        },
        "id": "MTUIzJy4XpKx",
        "outputId": "8de11606-a3cd-44e6-da6c-60d85d171916"
      },
      "outputs": [
        {
          "name": "stdout",
          "output_type": "stream",
          "text": [
            "0 1 1 2 3 5 8 "
          ]
        }
      ],
      "source": [
        "def fibonacci(n):\n",
        "    a = 0\n",
        "    b = 1\n",
        "    for i in range(n):\n",
        "\n",
        "      print(a,end=\" \")\n",
        "\n",
        "      a,b=a+b\n",
        "\n",
        "\n",
        "\n",
        "\n",
        "\n",
        "\n",
        "fibonacci(4)"
      ]
    },
    {
      "cell_type": "code",
      "source": [
        "def fib(nterm):\n",
        "  if nterm==0 :\n",
        "    return 0\n",
        "  if nterm<=2:\n",
        "    return 1\n",
        "  else:\n",
        "    return (fib(nterm-1)+fib(nterm-2))\n",
        "n=int(input(\"Enter a number: \"))\n",
        "for i in range(n):\n",
        "  print(fib(i))\n",
        "\n",
        "fib(0)"
      ],
      "metadata": {
        "colab": {
          "base_uri": "https://localhost:8080/"
        },
        "id": "ZVQK7nkqr7e1",
        "outputId": "8f3494bb-cd30-4ed4-e50c-787087ffa9fa"
      },
      "execution_count": null,
      "outputs": [
        {
          "output_type": "stream",
          "name": "stdout",
          "text": [
            "Enter a number: 6\n",
            "0\n",
            "1\n",
            "1\n",
            "2\n",
            "3\n",
            "5\n"
          ]
        },
        {
          "output_type": "execute_result",
          "data": {
            "text/plain": [
              "0"
            ]
          },
          "metadata": {},
          "execution_count": 10
        }
      ]
    },
    {
      "cell_type": "code",
      "source": [
        "def fibsum(n):\n",
        "  sl=[]\n",
        "  for i in range(fib(n)):\n",
        "    sl.append(i)\n",
        "  return sum(sl)\n",
        "\n",
        "fibsum(4)"
      ],
      "metadata": {
        "colab": {
          "base_uri": "https://localhost:8080/"
        },
        "id": "dZyqu73Ou4oZ",
        "outputId": "e2496fea-420b-4329-f1d7-830d4cec5176"
      },
      "execution_count": null,
      "outputs": [
        {
          "output_type": "execute_result",
          "data": {
            "text/plain": [
              "3"
            ]
          },
          "metadata": {},
          "execution_count": 9
        }
      ]
    },
    {
      "cell_type": "code",
      "source": [
        "def calculate(input1, input2):\n",
        "\n",
        "      x = input1 + input2\n",
        "\n",
        "      y = input1 * input2\n",
        "\n",
        "      print(x)\n",
        "\n",
        "      return y-x\n",
        "\n",
        "\n",
        "\n",
        "def calculate2(input):\n",
        "\n",
        "      print(input)\n",
        "\n",
        "      return input * input\n",
        "\n",
        "\n",
        "\n",
        "a = 10\n",
        "\n",
        "b = 8\n",
        "\n",
        "print(a)\n",
        "\n",
        "c = calculate(a, b)\n",
        "\n",
        "calculate2(3)\n",
        "\n",
        "print(c)"
      ],
      "metadata": {
        "colab": {
          "base_uri": "https://localhost:8080/"
        },
        "id": "y9PsZcY4vJXM",
        "outputId": "2b252bcc-1a56-4a55-cd7b-1b6a752debcc"
      },
      "execution_count": null,
      "outputs": [
        {
          "output_type": "stream",
          "name": "stdout",
          "text": [
            "10\n",
            "18\n",
            "3\n",
            "62\n"
          ]
        }
      ]
    },
    {
      "cell_type": "code",
      "source": [
        "def pow(N,P):\n",
        "  if P==0:\n",
        "    return 1\n",
        "  elif P==1:\n",
        "    return N\n",
        "  else:\n",
        "    return pow(N,1)*pow(N,P-1)\n",
        "\n",
        "\n",
        "\n",
        "\n",
        "\n"
      ],
      "metadata": {
        "colab": {
          "base_uri": "https://localhost:8080/",
          "height": 106
        },
        "id": "N8BAp2ruwk__",
        "outputId": "74003ef7-5512-4580-aaa5-fe01684e93b8"
      },
      "execution_count": null,
      "outputs": [
        {
          "output_type": "error",
          "ename": "SyntaxError",
          "evalue": "invalid syntax (<ipython-input-37-c1c295af983d>, line 12)",
          "traceback": [
            "\u001b[0;36m  File \u001b[0;32m\"<ipython-input-37-c1c295af983d>\"\u001b[0;36m, line \u001b[0;32m12\u001b[0m\n\u001b[0;31m    sl=[2**i for i in range(len(l)::-1)]\u001b[0m\n\u001b[0m                                  ^\u001b[0m\n\u001b[0;31mSyntaxError\u001b[0m\u001b[0;31m:\u001b[0m invalid syntax\n"
          ]
        }
      ]
    },
    {
      "cell_type": "code",
      "source": [
        "l=[1,1,1,1,0]\n",
        "\n",
        "sl=[2**i for i in range(len(l)-1,-1,-1)]\n",
        "sl"
      ],
      "metadata": {
        "colab": {
          "base_uri": "https://localhost:8080/"
        },
        "id": "z-czlHKnCnmb",
        "outputId": "7e20f55a-40d7-4913-df11-c70af1f0ca70"
      },
      "execution_count": null,
      "outputs": [
        {
          "output_type": "execute_result",
          "data": {
            "text/plain": [
              "[16, 8, 4, 2, 1]"
            ]
          },
          "metadata": {},
          "execution_count": 52
        }
      ]
    },
    {
      "cell_type": "code",
      "source": [
        "res=[]\n",
        "for x in l:\n",
        "  for y in sl:\n",
        "    res.append(x*y)\n",
        "res\n"
      ],
      "metadata": {
        "colab": {
          "base_uri": "https://localhost:8080/"
        },
        "id": "ff32HgU5_b1t",
        "outputId": "4b673399-254f-4e26-8048-d5490def3d16"
      },
      "execution_count": null,
      "outputs": [
        {
          "output_type": "execute_result",
          "data": {
            "text/plain": [
              "[8, 4, 2, 1, 8, 4, 2, 1, 8, 4, 2, 1, 0, 0, 0, 0]"
            ]
          },
          "metadata": {},
          "execution_count": 46
        }
      ]
    },
    {
      "cell_type": "markdown",
      "source": [],
      "metadata": {
        "id": "WhZOOgK-FhdK"
      }
    },
    {
      "cell_type": "code",
      "source": [
        "def to_decimal(number, base):\n",
        "    number_list = [int(digit) for digit in str(number)]  # Convert digits to integers\n",
        "    sl = [base**i for i in range(len(number_list)-1, -1, -1)]  # Compute place values\n",
        "    res = sum(x * y for x, y in zip(number_list, sl))  # Multiply & sum corresponding values\n",
        "    return res\n",
        "\n",
        "# Example usage:\n",
        "base = 2\n",
        "decimal_value = to_decimal(1110, base)\n",
        "print(decimal_value)  # Output: 14\n",
        "\n"
      ],
      "metadata": {
        "colab": {
          "base_uri": "https://localhost:8080/"
        },
        "id": "5opZmLdHFiHS",
        "outputId": "6f1bb16c-cefc-4542-d419-bf3d610393f4"
      },
      "execution_count": null,
      "outputs": [
        {
          "output_type": "stream",
          "name": "stdout",
          "text": [
            "14\n"
          ]
        }
      ]
    },
    {
      "cell_type": "code",
      "source": [
        "# Function to convert any base number\n",
        "\n",
        "# to its corresponding decimal number\n",
        "\n",
        "def any_base_to_decimal(number, base):\n",
        "  temp = int(number, base)\n",
        "  print(temp)\n",
        "\n",
        "\n",
        "\n",
        "\n",
        "\n",
        "hexadecimal_number = '1A'\n",
        "\n",
        "base = 16\n",
        "\n",
        "any_base_to_decimal(hexadecimal_number, base)"
      ],
      "metadata": {
        "id": "ConTPm5zJsH4",
        "colab": {
          "base_uri": "https://localhost:8080/"
        },
        "outputId": "9e988d09-2399-4d4a-e118-d80c15c02b12"
      },
      "execution_count": null,
      "outputs": [
        {
          "output_type": "stream",
          "name": "stdout",
          "text": [
            "26\n"
          ]
        }
      ]
    },
    {
      "cell_type": "markdown",
      "source": [
        "This function, any_base_to_decimal, is designed to convert a number from any base into its decimal (base-10) equivalent. Here’s a breakdown of how it works:\n",
        "\n",
        "Function Definition:\n",
        "The function takes two parameters: number and base.\n",
        "\n",
        "number is expected to be a string representing the number in its original base (for example, \"101\" for binary or \"1A\" for hexadecimal).\n",
        "base is an integer that specifies the base of the given number (e.g., 2 for binary, 16 for hexadecimal).\n",
        "Conversion Using int(number, base):\n",
        "The built-in Python function int() is used with two arguments. When you call int(number, base), Python interprets the string number as a number in the specified base and converts it into its decimal (base-10) integer equivalent.\n",
        "\n",
        "For example, int(\"101\", 2) converts the binary number \"101\" to the decimal number 5.\n",
        "Storing and Printing the Result:\n",
        "The result of the conversion is stored in the variable temp. Then, the function prints temp to display the decimal value.\n",
        "\n",
        "Overall, the function efficiently converts a number from any specified base to a decimal number and prints the result."
      ],
      "metadata": {
        "id": "DJu4TtwxVvQ9"
      }
    },
    {
      "cell_type": "code",
      "source": [
        "class Account():\n",
        "  def __init__(self):\n",
        "    self.balance=0\n",
        "    print(\"New account is created\")\n",
        "  def deposit(self):\n",
        "    amountd=float(input(\"Enter amount to be deposited : \"))\n",
        "    self.balance+=amountd\n",
        "    print(\"New balance is :\",self.balance)\n",
        "  def withdraw(self):\n",
        "    amountw=float(input(\"Enter amount to be withdrawn : \"))\n",
        "    if amountw>self.balance:\n",
        "      print(\"Insufficient balance\")\n",
        "    else:\n",
        "      self.balance-=amountw\n",
        "      print(\"New balance is :\",self.balance)\n",
        "  def enquiry(self):\n",
        "      print(\"Balance is: \",self.balance)\n",
        "\n",
        "ac=Account()\n",
        "ac.deposit()\n",
        "ac.withdraw()\n",
        "ac.enquiry()\n"
      ],
      "metadata": {
        "colab": {
          "base_uri": "https://localhost:8080/"
        },
        "id": "PIcqNiiwVwHo",
        "outputId": "dc984289-8f37-47ed-958d-e77bd6d265f3"
      },
      "execution_count": null,
      "outputs": [
        {
          "output_type": "stream",
          "name": "stdout",
          "text": [
            "New account is created\n",
            "Enter amount to be deposited : 4322\n",
            "New balance is : 4322.0\n",
            "Enter amount to be withdrawn : 5000\n",
            "Insufficient balance\n",
            "Balance is:  4322.0\n"
          ]
        }
      ]
    }
  ],
  "metadata": {
    "colab": {
      "provenance": []
    },
    "kernelspec": {
      "display_name": "Python 3",
      "name": "python3"
    },
    "language_info": {
      "name": "python"
    }
  },
  "nbformat": 4,
  "nbformat_minor": 0
}